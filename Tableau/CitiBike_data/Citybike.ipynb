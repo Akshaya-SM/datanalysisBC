{
 "cells": [
  {
   "cell_type": "code",
   "execution_count": 8,
   "metadata": {},
   "outputs": [
    {
     "data": {
      "text/html": [
       "<div>\n",
       "<style scoped>\n",
       "    .dataframe tbody tr th:only-of-type {\n",
       "        vertical-align: middle;\n",
       "    }\n",
       "\n",
       "    .dataframe tbody tr th {\n",
       "        vertical-align: top;\n",
       "    }\n",
       "\n",
       "    .dataframe thead th {\n",
       "        text-align: right;\n",
       "    }\n",
       "</style>\n",
       "<table border=\"1\" class=\"dataframe\">\n",
       "  <thead>\n",
       "    <tr style=\"text-align: right;\">\n",
       "      <th></th>\n",
       "      <th>ride_id</th>\n",
       "      <th>rideable_type</th>\n",
       "      <th>started_at</th>\n",
       "      <th>ended_at</th>\n",
       "      <th>start_station_name</th>\n",
       "      <th>start_station_id</th>\n",
       "      <th>end_station_name</th>\n",
       "      <th>end_station_id</th>\n",
       "      <th>start_lat</th>\n",
       "      <th>start_lng</th>\n",
       "      <th>end_lat</th>\n",
       "      <th>end_lng</th>\n",
       "      <th>member_casual</th>\n",
       "    </tr>\n",
       "  </thead>\n",
       "  <tbody>\n",
       "    <tr>\n",
       "      <th>0</th>\n",
       "      <td>FC9EB68D6501F079</td>\n",
       "      <td>electric_bike</td>\n",
       "      <td>2022-05-15 14:02:06</td>\n",
       "      <td>2022-05-15 14:05:44</td>\n",
       "      <td>Hoboken Terminal - Hudson St &amp; Hudson Pl</td>\n",
       "      <td>HB101</td>\n",
       "      <td>Hudson St &amp; 4 St</td>\n",
       "      <td>HB607</td>\n",
       "      <td>40.735938</td>\n",
       "      <td>-74.030305</td>\n",
       "      <td>40.740973</td>\n",
       "      <td>-74.028603</td>\n",
       "      <td>member</td>\n",
       "    </tr>\n",
       "    <tr>\n",
       "      <th>1</th>\n",
       "      <td>932A2D5E45ACED5B</td>\n",
       "      <td>electric_bike</td>\n",
       "      <td>2022-05-13 15:30:14</td>\n",
       "      <td>2022-05-13 15:33:03</td>\n",
       "      <td>Hoboken Terminal - Hudson St &amp; Hudson Pl</td>\n",
       "      <td>HB101</td>\n",
       "      <td>Hudson St &amp; 4 St</td>\n",
       "      <td>HB607</td>\n",
       "      <td>40.735938</td>\n",
       "      <td>-74.030305</td>\n",
       "      <td>40.740973</td>\n",
       "      <td>-74.028603</td>\n",
       "      <td>casual</td>\n",
       "    </tr>\n",
       "    <tr>\n",
       "      <th>2</th>\n",
       "      <td>8C0CD371C7A5795C</td>\n",
       "      <td>electric_bike</td>\n",
       "      <td>2022-05-31 20:41:39</td>\n",
       "      <td>2022-05-31 22:04:47</td>\n",
       "      <td>Hoboken Terminal - Hudson St &amp; Hudson Pl</td>\n",
       "      <td>HB101</td>\n",
       "      <td>South Waterfront Walkway - Sinatra Dr &amp; 1 St</td>\n",
       "      <td>HB103</td>\n",
       "      <td>40.735938</td>\n",
       "      <td>-74.030305</td>\n",
       "      <td>40.736982</td>\n",
       "      <td>-74.027781</td>\n",
       "      <td>casual</td>\n",
       "    </tr>\n",
       "    <tr>\n",
       "      <th>3</th>\n",
       "      <td>25BC1B079FBC71B9</td>\n",
       "      <td>classic_bike</td>\n",
       "      <td>2022-05-29 17:24:23</td>\n",
       "      <td>2022-05-30 18:24:16</td>\n",
       "      <td>Hoboken Terminal - Hudson St &amp; Hudson Pl</td>\n",
       "      <td>HB101</td>\n",
       "      <td>NaN</td>\n",
       "      <td>NaN</td>\n",
       "      <td>40.735938</td>\n",
       "      <td>-74.030305</td>\n",
       "      <td>NaN</td>\n",
       "      <td>NaN</td>\n",
       "      <td>member</td>\n",
       "    </tr>\n",
       "    <tr>\n",
       "      <th>4</th>\n",
       "      <td>0B0F776B55C85AB8</td>\n",
       "      <td>classic_bike</td>\n",
       "      <td>2022-05-26 16:49:12</td>\n",
       "      <td>2022-05-26 16:57:01</td>\n",
       "      <td>Hoboken Terminal - Hudson St &amp; Hudson Pl</td>\n",
       "      <td>HB101</td>\n",
       "      <td>Hoboken Ave at Monmouth St</td>\n",
       "      <td>JC105</td>\n",
       "      <td>40.735938</td>\n",
       "      <td>-74.030305</td>\n",
       "      <td>40.735208</td>\n",
       "      <td>-74.046964</td>\n",
       "      <td>member</td>\n",
       "    </tr>\n",
       "  </tbody>\n",
       "</table>\n",
       "</div>"
      ],
      "text/plain": [
       "            ride_id  rideable_type           started_at             ended_at  \\\n",
       "0  FC9EB68D6501F079  electric_bike  2022-05-15 14:02:06  2022-05-15 14:05:44   \n",
       "1  932A2D5E45ACED5B  electric_bike  2022-05-13 15:30:14  2022-05-13 15:33:03   \n",
       "2  8C0CD371C7A5795C  electric_bike  2022-05-31 20:41:39  2022-05-31 22:04:47   \n",
       "3  25BC1B079FBC71B9   classic_bike  2022-05-29 17:24:23  2022-05-30 18:24:16   \n",
       "4  0B0F776B55C85AB8   classic_bike  2022-05-26 16:49:12  2022-05-26 16:57:01   \n",
       "\n",
       "                         start_station_name start_station_id  \\\n",
       "0  Hoboken Terminal - Hudson St & Hudson Pl            HB101   \n",
       "1  Hoboken Terminal - Hudson St & Hudson Pl            HB101   \n",
       "2  Hoboken Terminal - Hudson St & Hudson Pl            HB101   \n",
       "3  Hoboken Terminal - Hudson St & Hudson Pl            HB101   \n",
       "4  Hoboken Terminal - Hudson St & Hudson Pl            HB101   \n",
       "\n",
       "                               end_station_name end_station_id  start_lat  \\\n",
       "0                              Hudson St & 4 St          HB607  40.735938   \n",
       "1                              Hudson St & 4 St          HB607  40.735938   \n",
       "2  South Waterfront Walkway - Sinatra Dr & 1 St          HB103  40.735938   \n",
       "3                                           NaN            NaN  40.735938   \n",
       "4                    Hoboken Ave at Monmouth St          JC105  40.735938   \n",
       "\n",
       "   start_lng    end_lat    end_lng member_casual  \n",
       "0 -74.030305  40.740973 -74.028603        member  \n",
       "1 -74.030305  40.740973 -74.028603        casual  \n",
       "2 -74.030305  40.736982 -74.027781        casual  \n",
       "3 -74.030305        NaN        NaN        member  \n",
       "4 -74.030305  40.735208 -74.046964        member  "
      ]
     },
     "execution_count": 8,
     "metadata": {},
     "output_type": "execute_result"
    }
   ],
   "source": [
    "import pandas as pd\n",
    "data_2023_Mar= pd.read_csv(\"JC-202303-citibike-tripdata.csv\")\n",
    "data_2023_Apr= pd.read_csv(\"JC-202304-citibike-tripdata.csv\")\n",
    "data_2023_May= pd.read_csv(\"JC-202205-citibike-tripdata.csv\")\n",
    "data_2022_Mar= pd.read_csv(\"JC-202203-citibike-tripdata.csv\")\n",
    "data_2022_Apr= pd.read_csv(\"JC-202204-citibike-tripdata.csv\")\n",
    "data_2022_May= pd.read_csv(\"JC-202205-citibike-tripdata.csv\")\n",
    "data_2023_May.head()\n",
    "\n"
   ]
  },
  {
   "cell_type": "code",
   "execution_count": 9,
   "metadata": {},
   "outputs": [
    {
     "name": "stdout",
     "output_type": "stream",
     "text": [
      "(63072, 13) (80688, 13) (80482, 13) (51671, 13) (62528, 13) (80482, 13)\n"
     ]
    }
   ],
   "source": [
    "print(data_2023_Mar.shape,\n",
    "data_2023_Apr.shape,\n",
    "data_2023_May.shape,\n",
    "data_2022_Mar.shape,\n",
    "data_2022_Apr.shape,\n",
    "data_2022_May.shape)"
   ]
  },
  {
   "cell_type": "code",
   "execution_count": 10,
   "metadata": {},
   "outputs": [
    {
     "data": {
      "text/plain": [
       "(418923, 13)"
      ]
     },
     "execution_count": 10,
     "metadata": {},
     "output_type": "execute_result"
    }
   ],
   "source": [
    "combined_data= pd.concat([data_2022_Mar, data_2022_Apr, data_2022_May, data_2023_Mar, data_2023_Apr, data_2023_May])\n",
    "combined_data.shape"
   ]
  },
  {
   "cell_type": "code",
   "execution_count": 12,
   "metadata": {},
   "outputs": [],
   "source": [
    "combined_data.to_csv(\"citibike_Spring(2022-2023).csv\", index= False)"
   ]
  },
  {
   "cell_type": "code",
   "execution_count": 13,
   "metadata": {},
   "outputs": [
    {
     "name": "stdout",
     "output_type": "stream",
     "text": [
      "<class 'pandas.core.frame.DataFrame'>\n",
      "Int64Index: 418923 entries, 0 to 80481\n",
      "Data columns (total 13 columns):\n",
      " #   Column              Non-Null Count   Dtype  \n",
      "---  ------              --------------   -----  \n",
      " 0   ride_id             418923 non-null  object \n",
      " 1   rideable_type       418923 non-null  object \n",
      " 2   started_at          418923 non-null  object \n",
      " 3   ended_at            418923 non-null  object \n",
      " 4   start_station_name  418920 non-null  object \n",
      " 5   start_station_id    418920 non-null  object \n",
      " 6   end_station_name    417920 non-null  object \n",
      " 7   end_station_id      417920 non-null  object \n",
      " 8   start_lat           418923 non-null  float64\n",
      " 9   start_lng           418923 non-null  float64\n",
      " 10  end_lat             418234 non-null  float64\n",
      " 11  end_lng             418234 non-null  float64\n",
      " 12  member_casual       418923 non-null  object \n",
      "dtypes: float64(4), object(9)\n",
      "memory usage: 44.7+ MB\n"
     ]
    }
   ],
   "source": [
    "combined_data.info()"
   ]
  }
 ],
 "metadata": {
  "kernelspec": {
   "display_name": "base",
   "language": "python",
   "name": "python3"
  },
  "language_info": {
   "codemirror_mode": {
    "name": "ipython",
    "version": 3
   },
   "file_extension": ".py",
   "mimetype": "text/x-python",
   "name": "python",
   "nbconvert_exporter": "python",
   "pygments_lexer": "ipython3",
   "version": "3.9.13"
  },
  "orig_nbformat": 4
 },
 "nbformat": 4,
 "nbformat_minor": 2
}
